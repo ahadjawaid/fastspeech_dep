{
 "cells": [
  {
   "cell_type": "markdown",
   "id": "1e5c6718",
   "metadata": {},
   "source": [
    "Preprocessed Data:\n",
    "\n",
    "- grapheme (words) -> Phonemes\n",
    "\n",
    "- waveform -> Duration\n",
    "- waveform -> Mel Spectrogram \n",
    "- waveform -> Energy\n",
    "- waveform -> Pitch -> Pitch Spectrogram"
   ]
  },
  {
   "cell_type": "code",
   "execution_count": 1,
   "id": "db751fbd",
   "metadata": {},
   "outputs": [],
   "source": [
    "from pathlib import Path\n",
    "import os"
   ]
  },
  {
   "cell_type": "code",
   "execution_count": 2,
   "id": "6e1ad191",
   "metadata": {},
   "outputs": [
    {
     "data": {
      "text/plain": [
       "['.DS_Store', 'wavs', 'README', 'metadata.csv']"
      ]
     },
     "execution_count": 2,
     "metadata": {},
     "output_type": "execute_result"
    }
   ],
   "source": [
    "path = Path(\"../data/LJSpeech-1.1\")\n",
    "os.listdir(path)"
   ]
  },
  {
   "cell_type": "code",
   "execution_count": 3,
   "id": "1fff72b0",
   "metadata": {},
   "outputs": [
    {
     "data": {
      "text/plain": [
       "['LJ026-0155.lab', 'LJ007-0005.wav', 'LJ038-0170.wav', 'LJ019-0020.lab']"
      ]
     },
     "execution_count": 3,
     "metadata": {},
     "output_type": "execute_result"
    }
   ],
   "source": [
    "os.listdir(path/\"wavs\")[:4]"
   ]
  },
  {
   "cell_type": "markdown",
   "id": "d5b76311",
   "metadata": {},
   "source": [
    "We must preprocess the dataset structure of the LJDataset folder to fit the format of the MFA tool. The structure must look like the following: \n",
    "\n",
    "+-- prosodylab_corpus_directory\n",
    "\n",
    "|   +-- speaker1\n",
    "\n",
    "|       --- recording1.wav\n",
    "\n",
    "|       --- recording1.lab\n",
    "\n",
    "|       --- recording2.wav\n",
    "\n",
    "|       --- recording2.lab\n",
    "\n",
    "|   +-- speaker2\n",
    "\n",
    "|       --- recording3.wav\n",
    "\n",
    "|       --- recording3.lab\n",
    "\n",
    "|   --- ...\n",
    "\n",
    "where .lab is a text format and will contain transcript of the recording"
   ]
  },
  {
   "cell_type": "code",
   "execution_count": 4,
   "id": "09892292",
   "metadata": {},
   "outputs": [],
   "source": [
    "import pandas as pd"
   ]
  },
  {
   "cell_type": "code",
   "execution_count": 5,
   "id": "cc477abe",
   "metadata": {},
   "outputs": [
    {
     "data": {
      "text/html": [
       "<div>\n",
       "<style scoped>\n",
       "    .dataframe tbody tr th:only-of-type {\n",
       "        vertical-align: middle;\n",
       "    }\n",
       "\n",
       "    .dataframe tbody tr th {\n",
       "        vertical-align: top;\n",
       "    }\n",
       "\n",
       "    .dataframe thead th {\n",
       "        text-align: right;\n",
       "    }\n",
       "</style>\n",
       "<table border=\"1\" class=\"dataframe\">\n",
       "  <thead>\n",
       "    <tr style=\"text-align: right;\">\n",
       "      <th></th>\n",
       "      <th>file</th>\n",
       "      <th>transcript</th>\n",
       "      <th>normalized_transcript</th>\n",
       "    </tr>\n",
       "  </thead>\n",
       "  <tbody>\n",
       "    <tr>\n",
       "      <th>0</th>\n",
       "      <td>LJ001-0001</td>\n",
       "      <td>Printing, in the only sense with which we are ...</td>\n",
       "      <td>Printing, in the only sense with which we are ...</td>\n",
       "    </tr>\n",
       "    <tr>\n",
       "      <th>1</th>\n",
       "      <td>LJ001-0002</td>\n",
       "      <td>in being comparatively modern.</td>\n",
       "      <td>in being comparatively modern.</td>\n",
       "    </tr>\n",
       "    <tr>\n",
       "      <th>2</th>\n",
       "      <td>LJ001-0003</td>\n",
       "      <td>For although the Chinese took impressions from...</td>\n",
       "      <td>For although the Chinese took impressions from...</td>\n",
       "    </tr>\n",
       "    <tr>\n",
       "      <th>3</th>\n",
       "      <td>LJ001-0004</td>\n",
       "      <td>produced the block books, which were the immed...</td>\n",
       "      <td>produced the block books, which were the immed...</td>\n",
       "    </tr>\n",
       "    <tr>\n",
       "      <th>4</th>\n",
       "      <td>LJ001-0005</td>\n",
       "      <td>the invention of movable metal letters in the ...</td>\n",
       "      <td>the invention of movable metal letters in the ...</td>\n",
       "    </tr>\n",
       "  </tbody>\n",
       "</table>\n",
       "</div>"
      ],
      "text/plain": [
       "         file                                         transcript  \\\n",
       "0  LJ001-0001  Printing, in the only sense with which we are ...   \n",
       "1  LJ001-0002                     in being comparatively modern.   \n",
       "2  LJ001-0003  For although the Chinese took impressions from...   \n",
       "3  LJ001-0004  produced the block books, which were the immed...   \n",
       "4  LJ001-0005  the invention of movable metal letters in the ...   \n",
       "\n",
       "                               normalized_transcript  \n",
       "0  Printing, in the only sense with which we are ...  \n",
       "1                     in being comparatively modern.  \n",
       "2  For although the Chinese took impressions from...  \n",
       "3  produced the block books, which were the immed...  \n",
       "4  the invention of movable metal letters in the ...  "
      ]
     },
     "execution_count": 5,
     "metadata": {},
     "output_type": "execute_result"
    }
   ],
   "source": [
    "df = pd.read_csv(path/\"metadata.csv\", delimiter=\"|\", \n",
    "                 names=[\"file\", \"transcript\", \"normalized_transcript\"])\n",
    "df.head()"
   ]
  },
  {
   "cell_type": "code",
   "execution_count": 6,
   "id": "4cefc9b0",
   "metadata": {},
   "outputs": [
    {
     "data": {
      "text/plain": [
       "(13100, 26170)"
      ]
     },
     "execution_count": 6,
     "metadata": {},
     "output_type": "execute_result"
    }
   ],
   "source": [
    "len(df), len(os.listdir(path/\"wavs\"))"
   ]
  },
  {
   "cell_type": "code",
   "execution_count": 7,
   "id": "d4bc2b5c",
   "metadata": {},
   "outputs": [],
   "source": [
    "out_path = path/\"wavs\""
   ]
  },
  {
   "cell_type": "code",
   "execution_count": 8,
   "id": "fbdeef9c",
   "metadata": {},
   "outputs": [
    {
     "data": {
      "text/plain": [
       "13084"
      ]
     },
     "execution_count": 8,
     "metadata": {},
     "output_type": "execute_result"
    }
   ],
   "source": [
    "df = df.dropna()\n",
    "len(df)"
   ]
  },
  {
   "cell_type": "code",
   "execution_count": 9,
   "id": "0666f06a",
   "metadata": {},
   "outputs": [],
   "source": [
    "for i, row in df.iterrows():\n",
    "    file_name, text = row.file, row.normalized_transcript\n",
    "    \n",
    "    file_path = out_path/(file_name + \".lab\")\n",
    "    with open(file_path, \"w\") as f:\n",
    "        f.write(text)"
   ]
  },
  {
   "cell_type": "code",
   "execution_count": 10,
   "id": "f1ee04d8",
   "metadata": {},
   "outputs": [],
   "source": [
    "lab_files = list(filter(lambda x: \"lab\" in x, os.listdir(out_path)))"
   ]
  },
  {
   "cell_type": "code",
   "execution_count": 11,
   "id": "65f0124f",
   "metadata": {},
   "outputs": [],
   "source": [
    "wav_files = list(filter(lambda x: \"wav\" in x, os.listdir(out_path)))"
   ]
  },
  {
   "cell_type": "code",
   "execution_count": 12,
   "id": "ee626c3b",
   "metadata": {},
   "outputs": [],
   "source": [
    "na_files = []\n",
    "for file in wav_files:\n",
    "    lab_name = file.split(\".\")[0] + \".lab\"\n",
    "    if lab_name not in lab_files:\n",
    "        na_files.append(file)"
   ]
  },
  {
   "cell_type": "code",
   "execution_count": 13,
   "id": "9a0b4412",
   "metadata": {},
   "outputs": [],
   "source": [
    "for basename in na_files:\n",
    "    os.remove(out_path/basename)"
   ]
  }
 ],
 "metadata": {
  "kernelspec": {
   "display_name": "Python 3 (ipykernel)",
   "language": "python",
   "name": "python3"
  },
  "language_info": {
   "codemirror_mode": {
    "name": "ipython",
    "version": 3
   },
   "file_extension": ".py",
   "mimetype": "text/x-python",
   "name": "python",
   "nbconvert_exporter": "python",
   "pygments_lexer": "ipython3",
   "version": "3.10.9"
  },
  "toc": {
   "base_numbering": 1,
   "nav_menu": {},
   "number_sections": true,
   "sideBar": true,
   "skip_h1_title": false,
   "title_cell": "Table of Contents",
   "title_sidebar": "Contents",
   "toc_cell": false,
   "toc_position": {},
   "toc_section_display": true,
   "toc_window_display": false
  }
 },
 "nbformat": 4,
 "nbformat_minor": 5
}
