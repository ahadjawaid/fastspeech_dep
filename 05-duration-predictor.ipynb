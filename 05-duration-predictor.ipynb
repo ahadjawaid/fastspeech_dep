{
 "cells": [
  {
   "cell_type": "code",
   "execution_count": 1,
   "id": "b759c1da",
   "metadata": {},
   "outputs": [],
   "source": [
    "from fastai.data.all import *\n",
    "from modules import *\n",
    "from data import TTSDataset, collate_fn"
   ]
  },
  {
   "cell_type": "code",
   "execution_count": 2,
   "id": "658fa595",
   "metadata": {},
   "outputs": [],
   "source": [
    "path_ds = Path(\"../data/LJSpeech-1.1/\")\n",
    "path_vocab = Path(\"../data/CMUDict/cmudict-0.7b.symbols.txt\")\n",
    "\n",
    "sample_rate = 22050\n",
    "n_fft = 1024\n",
    "hop_length = 256 \n",
    "n_bins = 80\n",
    "ratio = 0.01\n",
    "preload = False\n",
    "bs = 4\n",
    "\n",
    "n_hidden = 384\n",
    "n_heads = 2\n",
    "kernal_sz = 3\n",
    "n_filters = 1536\n",
    "n_blocks = 6\n",
    "kernal_sz_v = 3\n",
    "n_filters_v = 256\n",
    "p_dropout = 0.5\n",
    "upsample_ratio = 1\n",
    "\n",
    "\n",
    "n_iter = 180\n",
    "\n",
    "device = torch.device('cuda' if torch.cuda.is_available() else 'cpu')"
   ]
  },
  {
   "cell_type": "code",
   "execution_count": 3,
   "id": "24d21068",
   "metadata": {},
   "outputs": [],
   "source": [
    "ds = TTSDataset(path_ds, path_vocab, sample_rate, n_fft, \n",
    "                hop_length, n_bins, ratio, preload)\n",
    "dl = torch.utils.data.DataLoader(ds, bs, shuffle=True,\n",
    "                                 collate_fn=partial(collate_fn, pad_num=ds.pad_num))"
   ]
  },
  {
   "cell_type": "code",
   "execution_count": 4,
   "id": "d572d863",
   "metadata": {},
   "outputs": [
    {
     "data": {
      "text/plain": [
       "(torch.Size([4, 80, 508]), torch.Size([4, 63]), torch.Size([4, 63]))"
      ]
     },
     "execution_count": 4,
     "metadata": {},
     "output_type": "execute_result"
    }
   ],
   "source": [
    "mel, phones, durations = first(dl); mel.shape, phones.shape, durations.shape"
   ]
  },
  {
   "cell_type": "code",
   "execution_count": 5,
   "id": "fe7ff661",
   "metadata": {},
   "outputs": [],
   "source": [
    "class FastSpeech(nn.Module):\n",
    "    def __init__(self, vocab_sz, nhidden, nout, nheads, kernal_sz, nfilters, nblocks, \n",
    "                 kernal_sz_v, nfilters_v, dropout, device=None):\n",
    "        super(FastSpeech, self).__init__()\n",
    "        self.device = device\n",
    "        self.embedding = nn.Embedding(vocab_sz, nhidden)\n",
    "        self.fft_pho = nn.ModuleList([FeedForwardTransformer(nhidden, nheads, kernal_sz, nfilters)\n",
    "                                      for _ in range(nblocks)])\n",
    "    \n",
    "    def forward(self, inp, durations, upsample_ratio, dur_train=False):\n",
    "        x = self.embedding(inp)\n",
    "        x = x + positional_embeddings(*x.shape[-2:], device=self.device)\n",
    "        for layer in self.fft_pho:\n",
    "            x = layer(x)\n",
    "        return x"
   ]
  },
  {
   "cell_type": "code",
   "execution_count": 6,
   "id": "6dcd2de9",
   "metadata": {},
   "outputs": [],
   "source": [
    "model = FastSpeech(len(ds.vocab), n_hidden, n_bins, n_heads, kernal_sz, n_filters, n_blocks, \n",
    "                 kernal_sz_v, n_filters_v, p_dropout, device=None)"
   ]
  },
  {
   "cell_type": "code",
   "execution_count": 7,
   "id": "f82c401a",
   "metadata": {},
   "outputs": [
    {
     "data": {
      "text/plain": [
       "torch.Size([4, 63, 384])"
      ]
     },
     "execution_count": 7,
     "metadata": {},
     "output_type": "execute_result"
    }
   ],
   "source": [
    "hi = model(phones, durations, upsample_ratio); hi.shape"
   ]
  },
  {
   "cell_type": "code",
   "execution_count": 8,
   "id": "d02b1f22",
   "metadata": {},
   "outputs": [],
   "source": [
    "padding = (kernal_sz - 1) // 2\n",
    "conv1 = nn.Conv1d(n_hidden, n_filters_v, kernal_sz_v, padding=padding)\n",
    "norm1 = nn.LayerNorm(n_filters_v)\n",
    "conv2 = nn.Conv1d(n_filters_v, n_hidden, kernal_sz_v, padding=padding)\n",
    "norm2 = nn.LayerNorm(n_hidden)\n",
    "dropout = nn.Dropout(p_dropout)\n",
    "linear = nn.Linear(n_hidden, 1)"
   ]
  },
  {
   "cell_type": "code",
   "execution_count": 19,
   "id": "b4ac5796",
   "metadata": {},
   "outputs": [
    {
     "data": {
      "text/plain": [
       "torch.Size([4, 256, 63])"
      ]
     },
     "execution_count": 19,
     "metadata": {},
     "output_type": "execute_result"
    }
   ],
   "source": [
    "x = conv1(hi.transpose(1,2)); x.shape"
   ]
  },
  {
   "cell_type": "code",
   "execution_count": 20,
   "id": "8b1bfab5",
   "metadata": {},
   "outputs": [
    {
     "data": {
      "text/plain": [
       "torch.Size([4, 256, 63])"
      ]
     },
     "execution_count": 20,
     "metadata": {},
     "output_type": "execute_result"
    }
   ],
   "source": [
    "x = dropout(x); x.shape"
   ]
  },
  {
   "cell_type": "code",
   "execution_count": 21,
   "id": "7872ba70",
   "metadata": {},
   "outputs": [
    {
     "data": {
      "text/plain": [
       "torch.Size([4, 63, 256])"
      ]
     },
     "execution_count": 21,
     "metadata": {},
     "output_type": "execute_result"
    }
   ],
   "source": [
    "x = norm1(x.transpose(1,2)); x.shape"
   ]
  },
  {
   "cell_type": "code",
   "execution_count": 22,
   "id": "e5bf2fb3",
   "metadata": {},
   "outputs": [
    {
     "data": {
      "text/plain": [
       "torch.Size([4, 384, 63])"
      ]
     },
     "execution_count": 22,
     "metadata": {},
     "output_type": "execute_result"
    }
   ],
   "source": [
    "x = conv2(x.transpose(1,2)); x.shape"
   ]
  },
  {
   "cell_type": "code",
   "execution_count": 23,
   "id": "d5ae9260",
   "metadata": {},
   "outputs": [
    {
     "data": {
      "text/plain": [
       "torch.Size([4, 384, 63])"
      ]
     },
     "execution_count": 23,
     "metadata": {},
     "output_type": "execute_result"
    }
   ],
   "source": [
    "x = dropout(x); x.shape"
   ]
  },
  {
   "cell_type": "code",
   "execution_count": 24,
   "id": "5c208ff1",
   "metadata": {},
   "outputs": [
    {
     "data": {
      "text/plain": [
       "torch.Size([4, 63, 384])"
      ]
     },
     "execution_count": 24,
     "metadata": {},
     "output_type": "execute_result"
    }
   ],
   "source": [
    "x = norm2(x.transpose(1,2)); x.shape"
   ]
  },
  {
   "cell_type": "code",
   "execution_count": 25,
   "id": "308964db",
   "metadata": {},
   "outputs": [
    {
     "data": {
      "text/plain": [
       "torch.Size([4, 63])"
      ]
     },
     "execution_count": 25,
     "metadata": {},
     "output_type": "execute_result"
    }
   ],
   "source": [
    "x = F.relu(linear(x)).squeeze(-1).to(torch.long); x.shape"
   ]
  },
  {
   "cell_type": "code",
   "execution_count": 27,
   "id": "550ccc23",
   "metadata": {},
   "outputs": [
    {
     "data": {
      "text/plain": [
       "tensor([[  2,   8,   6,  10,   3,  12,  34,  24,  11,   1,   3,  12,  15,   6,\n",
       "           9,   8,   4,   9,   6,   8,   6,   3,   7,   3,   6,   4,   4,   9,\n",
       "           4,   2,   6,   9,   4,   3,   9,  12,   6,   6,   2,  12,  10,   4,\n",
       "           5,   1,   2,   7,   2,   4,  11,   6,   4,   6,   9,   6,  12,  10,\n",
       "          14,   0,   0,   0,   0,   0,  87],\n",
       "        [  5,   5,  13,  18,  10,  11,  36,   3,   7,   8,   5,   8,   4,   6,\n",
       "           4,   8,   9,   6,   5,   5,   5,   8,   7,   7,   5,  14,   7,  12,\n",
       "           7,   8,  15,   7,   2,   6,   6,   2,   4,  11,   2,   3,  10,   3,\n",
       "          11,   0,   0,   0,   0,   0,   0,   0,   0,   0,   0,   0,   0,   0,\n",
       "           0,   0,   0,   0,   0,   0, 170],\n",
       "        [  2,   2,   3,   0,   6,   4,   4,   7,   5,  11,   6,  12,  12,   4,\n",
       "           6,  15,  18,  21,   5,   3,  17,   7,   3,   2,   6,   5,   6,   6,\n",
       "           3,   4,   5,   2,   9,   6,   8,   9,  11,   8,   1,   3,  12,   3,\n",
       "          18,  10,  33,   4,   3,   5,   5,   9,  17,   7,  14,   1,  10,   4,\n",
       "           6,   6,   6,   7,  16,  11,  34],\n",
       "        [  6,   6,   7,   5,   3,   4,  10,   3,   6,   3,   3,  10,   6,   5,\n",
       "           4,   3,   6,   8,  18,   4,   3,   3,   3,   8,   8,   8,   9,   3,\n",
       "           5,   8,   7,   8,   6,   5,  16,   5,   4,   4,   2,   9,  13,   5,\n",
       "          11,   2,   4,  16,  16,   6,  10,   3,  12,  11,   9,   9,   0,   0,\n",
       "           0,   0,   0,   0,   0,   0, 137]])"
      ]
     },
     "execution_count": 27,
     "metadata": {},
     "output_type": "execute_result"
    }
   ],
   "source": [
    "durations"
   ]
  },
  {
   "cell_type": "code",
   "execution_count": null,
   "id": "baf2cefd",
   "metadata": {},
   "outputs": [],
   "source": [
    "import torch.nn as nn\n",
    "\n",
    "class VariencePredictor(nn.Module):\n",
    "    def __init__(self, ni, ks, nf, p):\n",
    "        super(VariencePredictor, self).__init__()\n",
    "        padding = (ks - 1) // 2\n",
    "        self.conv1, self.norm1 = nn.Conv1d(ni, nf, ks, padding=padding), nn.LayerNorm(nf)\n",
    "        self.conv2, self.norm2 = nn.Conv1d(nf, ni, ks, padding=padding), nn.LayerNorm(ni)\n",
    "        self.dropout = nn.Dropout(p)\n",
    "        self.linear = nn.Linear(ni, 1)\n",
    "    def forward(self, hi):\n",
    "        x = F.relu(self.conv1(hi.transpose(1,2)))\n",
    "        x = self.norm1((self.dropout(x)).transpose(1,2))\n",
    "        x = F.relu(self.conv2(x.transpose(1,2)))\n",
    "        x = self.norm2((self.dropout(x)).transpose(1,2))\n",
    "        return self.linear(x).squeeze(1).to"
   ]
  },
  {
   "cell_type": "code",
   "execution_count": null,
   "id": "f71c07fb",
   "metadata": {},
   "outputs": [],
   "source": [
    "predictor = VariencePredictor(n_hidden, kernal_sz_v, n_filters_v, p_dropout)"
   ]
  },
  {
   "cell_type": "code",
   "execution_count": null,
   "id": "2f482522",
   "metadata": {},
   "outputs": [],
   "source": [
    "predictor(hi).shape"
   ]
  },
  {
   "cell_type": "code",
   "execution_count": null,
   "id": "fff76909",
   "metadata": {},
   "outputs": [],
   "source": []
  }
 ],
 "metadata": {
  "kernelspec": {
   "display_name": "Python 3 (ipykernel)",
   "language": "python",
   "name": "python3"
  },
  "language_info": {
   "codemirror_mode": {
    "name": "ipython",
    "version": 3
   },
   "file_extension": ".py",
   "mimetype": "text/x-python",
   "name": "python",
   "nbconvert_exporter": "python",
   "pygments_lexer": "ipython3",
   "version": "3.10.9"
  }
 },
 "nbformat": 4,
 "nbformat_minor": 5
}
