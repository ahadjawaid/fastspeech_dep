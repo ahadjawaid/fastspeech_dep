{
 "cells": [
  {
   "cell_type": "code",
   "execution_count": 38,
   "id": "2e1e6930",
   "metadata": {},
   "outputs": [],
   "source": [
    "# !pip install g2p_en\n",
    "# !conda install montreal-forced-aligner -c conda-forge"
   ]
  },
  {
   "cell_type": "code",
   "execution_count": 2,
   "id": "b678bbbb",
   "metadata": {},
   "outputs": [],
   "source": [
    "from g2p_en import G2p"
   ]
  },
  {
   "cell_type": "code",
   "execution_count": 3,
   "id": "ed369db8",
   "metadata": {},
   "outputs": [],
   "source": [
    "g2p = G2p()"
   ]
  },
  {
   "cell_type": "code",
   "execution_count": 4,
   "id": "2b35cc98",
   "metadata": {},
   "outputs": [],
   "source": [
    "text = \"I like to each turtles\""
   ]
  },
  {
   "cell_type": "code",
   "execution_count": 5,
   "id": "47b723fa",
   "metadata": {},
   "outputs": [
    {
     "data": {
      "text/plain": [
       "['AY1', ' ', 'L', 'AY1', 'K']"
      ]
     },
     "execution_count": 5,
     "metadata": {},
     "output_type": "execute_result"
    }
   ],
   "source": [
    "g2p(text)[:5]"
   ]
  },
  {
   "cell_type": "code",
   "execution_count": 6,
   "id": "b9700bf3",
   "metadata": {},
   "outputs": [],
   "source": [
    "import torchaudio\n",
    "from pathlib import Path"
   ]
  },
  {
   "cell_type": "code",
   "execution_count": 7,
   "id": "76830dce",
   "metadata": {},
   "outputs": [],
   "source": [
    "root_dir = \"../data\""
   ]
  },
  {
   "cell_type": "code",
   "execution_count": 8,
   "id": "8dc09107",
   "metadata": {},
   "outputs": [],
   "source": [
    "dataset = torchaudio.datasets.LJSPEECH(root_dir, download=False)"
   ]
  },
  {
   "cell_type": "code",
   "execution_count": 20,
   "id": "f29de2de",
   "metadata": {},
   "outputs": [],
   "source": [
    "def _addPhonemeTranscript(data):\n",
    "    normalized_transcript = data[-1]\n",
    "    phonemes = g2p(normalized_transcript)\n",
    "    out = (*data, phonemes)\n",
    "\n",
    "    return out"
   ]
  },
  {
   "cell_type": "code",
   "execution_count": 31,
   "id": "7186f75d",
   "metadata": {},
   "outputs": [
    {
     "data": {
      "text/plain": [
       "['P', 'R', 'IH1', 'N', 'T']"
      ]
     },
     "execution_count": 31,
     "metadata": {},
     "output_type": "execute_result"
    }
   ],
   "source": [
    "_addPhonemeTranscript(dataset._flist[0])[-1][:5]"
   ]
  },
  {
   "cell_type": "code",
   "execution_count": 24,
   "id": "5822c5f8",
   "metadata": {},
   "outputs": [],
   "source": [
    "from torchaudio.datasets import LJSPEECH\n",
    "from g2p_en import G2p\n",
    "\n",
    "class LJSpeechTTS(LJSPEECH):\n",
    "    def __init__(self, root_dir, download=False, process_first=False):\n",
    "        super(LJSpeechTTS, self).__init__(root_dir, download=False)\n",
    "        self.process_first = process_first\n",
    "        if self.process_first:\n",
    "            self._flist = list(map(self._addPhonemeTranscript, self._flist))\n",
    "        \n",
    "    def _addPhonemeTranscript(self, data):\n",
    "        normalized_transcript = data[-1]\n",
    "        phonemes = g2p(normalized_transcript)\n",
    "        out = (*data, phonemes)\n",
    "        \n",
    "        return out\n",
    "        \n",
    "    def __getitem__(self, i):\n",
    "        item = super().__getitem__(i)\n",
    "        if not self.process_first:\n",
    "            item = self._addPhonemeTranscript(item)\n",
    "        return item"
   ]
  },
  {
   "cell_type": "code",
   "execution_count": 25,
   "id": "6db9d24f",
   "metadata": {},
   "outputs": [],
   "source": [
    "dataset = LJSpeechTTS(root_dir)"
   ]
  },
  {
   "cell_type": "code",
   "execution_count": 16,
   "id": "727396f0",
   "metadata": {},
   "outputs": [
    {
     "data": {
      "text/plain": [
       "(tensor([[-7.3242e-04, -7.6294e-04, -6.4087e-04,  ...,  7.3242e-04,\n",
       "           2.1362e-04,  6.1035e-05]]),\n",
       " 22050,\n",
       " 'Printing, in the only sense with which we are at present concerned, differs from most if not from all the arts and crafts represented in the Exhibition',\n",
       " 'Printing, in the only sense with which we are at present concerned, differs from most if not from all the arts and crafts represented in the Exhibition',\n",
       " ['P',\n",
       "  'R',\n",
       "  'IH1',\n",
       "  'N',\n",
       "  'T',\n",
       "  'IH0',\n",
       "  'NG',\n",
       "  ' ',\n",
       "  ',',\n",
       "  ' ',\n",
       "  'IH0',\n",
       "  'N',\n",
       "  ' ',\n",
       "  'DH',\n",
       "  'AH0',\n",
       "  ' ',\n",
       "  'OW1',\n",
       "  'N',\n",
       "  'L',\n",
       "  'IY0',\n",
       "  ' ',\n",
       "  'S',\n",
       "  'EH1',\n",
       "  'N',\n",
       "  'S',\n",
       "  ' ',\n",
       "  'W',\n",
       "  'IH1',\n",
       "  'DH',\n",
       "  ' ',\n",
       "  'W',\n",
       "  'IH1',\n",
       "  'CH',\n",
       "  ' ',\n",
       "  'W',\n",
       "  'IY1',\n",
       "  ' ',\n",
       "  'AA1',\n",
       "  'R',\n",
       "  ' ',\n",
       "  'AE1',\n",
       "  'T',\n",
       "  ' ',\n",
       "  'P',\n",
       "  'R',\n",
       "  'EH1',\n",
       "  'Z',\n",
       "  'AH0',\n",
       "  'N',\n",
       "  'T',\n",
       "  ' ',\n",
       "  'K',\n",
       "  'AH0',\n",
       "  'N',\n",
       "  'S',\n",
       "  'ER1',\n",
       "  'N',\n",
       "  'D',\n",
       "  ' ',\n",
       "  ',',\n",
       "  ' ',\n",
       "  'D',\n",
       "  'IH1',\n",
       "  'F',\n",
       "  'ER0',\n",
       "  'Z',\n",
       "  ' ',\n",
       "  'F',\n",
       "  'R',\n",
       "  'AH1',\n",
       "  'M',\n",
       "  ' ',\n",
       "  'M',\n",
       "  'OW1',\n",
       "  'S',\n",
       "  'T',\n",
       "  ' ',\n",
       "  'IH1',\n",
       "  'F',\n",
       "  ' ',\n",
       "  'N',\n",
       "  'AA1',\n",
       "  'T',\n",
       "  ' ',\n",
       "  'F',\n",
       "  'R',\n",
       "  'AH1',\n",
       "  'M',\n",
       "  ' ',\n",
       "  'AO1',\n",
       "  'L',\n",
       "  ' ',\n",
       "  'DH',\n",
       "  'AH0',\n",
       "  ' ',\n",
       "  'AA1',\n",
       "  'R',\n",
       "  'T',\n",
       "  'S',\n",
       "  ' ',\n",
       "  'AH0',\n",
       "  'N',\n",
       "  'D',\n",
       "  ' ',\n",
       "  'K',\n",
       "  'R',\n",
       "  'AE1',\n",
       "  'F',\n",
       "  'T',\n",
       "  'S',\n",
       "  ' ',\n",
       "  'R',\n",
       "  'EH2',\n",
       "  'P',\n",
       "  'R',\n",
       "  'AH0',\n",
       "  'Z',\n",
       "  'EH1',\n",
       "  'N',\n",
       "  'T',\n",
       "  'AH0',\n",
       "  'D',\n",
       "  ' ',\n",
       "  'IH0',\n",
       "  'N',\n",
       "  ' ',\n",
       "  'DH',\n",
       "  'AH0',\n",
       "  ' ',\n",
       "  'EH2',\n",
       "  'K',\n",
       "  'S',\n",
       "  'AH0',\n",
       "  'B',\n",
       "  'IH1',\n",
       "  'SH',\n",
       "  'AH0',\n",
       "  'N'])"
      ]
     },
     "execution_count": 16,
     "metadata": {},
     "output_type": "execute_result"
    }
   ],
   "source": [
    "dataset[0]"
   ]
  },
  {
   "cell_type": "code",
   "execution_count": 40,
   "id": "c57949f2",
   "metadata": {},
   "outputs": [],
   "source": []
  },
  {
   "cell_type": "code",
   "execution_count": null,
   "id": "b54c8323",
   "metadata": {},
   "outputs": [],
   "source": []
  }
 ],
 "metadata": {
  "kernelspec": {
   "display_name": "Python 3 (ipykernel)",
   "language": "python",
   "name": "python3"
  },
  "language_info": {
   "codemirror_mode": {
    "name": "ipython",
    "version": 3
   },
   "file_extension": ".py",
   "mimetype": "text/x-python",
   "name": "python",
   "nbconvert_exporter": "python",
   "pygments_lexer": "ipython3",
   "version": "3.10.9"
  },
  "toc": {
   "base_numbering": 1,
   "nav_menu": {},
   "number_sections": true,
   "sideBar": true,
   "skip_h1_title": false,
   "title_cell": "Table of Contents",
   "title_sidebar": "Contents",
   "toc_cell": false,
   "toc_position": {},
   "toc_section_display": true,
   "toc_window_display": false
  }
 },
 "nbformat": 4,
 "nbformat_minor": 5
}
