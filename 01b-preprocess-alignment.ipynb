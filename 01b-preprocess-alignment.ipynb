{
 "cells": [
  {
   "cell_type": "code",
   "execution_count": 2,
   "id": "c9659568",
   "metadata": {},
   "outputs": [],
   "source": [
    "import torch, librosa\n",
    "from pathlib import Path"
   ]
  },
  {
   "cell_type": "code",
   "execution_count": 4,
   "id": "ccbd878a",
   "metadata": {},
   "outputs": [],
   "source": [
    "path = Path(\"../data/LJSpeech-1.1/\")\n",
    "basename = \"LJ001-0001\""
   ]
  },
  {
   "cell_type": "code",
   "execution_count": 16,
   "id": "c86b47b7",
   "metadata": {},
   "outputs": [],
   "source": [
    "wav_path = path/\"wavs\"/(basename + \".wav\")\n",
    "text_path = path/\"wavs\"/(basename + \".lab\")\n",
    "tgt_path = path/\"alignment\"/(basename + \".TextGrid\")"
   ]
  },
  {
   "cell_type": "code",
   "execution_count": 28,
   "id": "95f946f9",
   "metadata": {},
   "outputs": [
    {
     "name": "stdout",
     "output_type": "stream",
     "text": [
      "['Printing, in the only sense with which we are at present concerned, differs from most if not from all the arts and crafts represented in the Exhibition']\n"
     ]
    }
   ],
   "source": [
    "with open(text_path, 'r') as f: print(f.readlines())"
   ]
  },
  {
   "cell_type": "code",
   "execution_count": 17,
   "id": "1a31eeb5",
   "metadata": {},
   "outputs": [],
   "source": [
    "import tgt"
   ]
  },
  {
   "cell_type": "code",
   "execution_count": 18,
   "id": "015d8dad",
   "metadata": {},
   "outputs": [],
   "source": [
    "textgrid = tgt.io.read_textgrid(tgt_path)"
   ]
  },
  {
   "cell_type": "code",
   "execution_count": 37,
   "id": "65801e8e",
   "metadata": {},
   "outputs": [
    {
     "data": {
      "text/plain": [
       "[Interval(0.0, 0.04, \"P\"),\n",
       " Interval(0.04, 0.07, \"R\"),\n",
       " Interval(0.07, 0.18, \"IH1\")]"
      ]
     },
     "execution_count": 37,
     "metadata": {},
     "output_type": "execute_result"
    }
   ],
   "source": [
    "tiers = textgrid.get_tier_by_name(\"phones\")\n",
    "tiers[:3]"
   ]
  },
  {
   "cell_type": "code",
   "execution_count": 113,
   "id": "2dab6cbb",
   "metadata": {},
   "outputs": [],
   "source": [
    "import numpy as np\n",
    "\n",
    "sampling_rate = 22050\n",
    "hop_length = 256\n",
    "\n",
    "def getAlignment(tiers):\n",
    "    silent_phones = [\"sil\", \"sp\", \"spn\"]\n",
    "    phones, durations = [], []\n",
    "    start_time = end_time = end_index = 0\n",
    "\n",
    "    for interval in tiers:\n",
    "        start, end, phoneme = interval.start_time, interval.end_time, interval.text\n",
    "\n",
    "        if not phones and phoneme not in silent_phones:\n",
    "            start_time = start\n",
    "\n",
    "        phones.append(phoneme)\n",
    "        if phoneme not in sil_phones:\n",
    "            end_time = end\n",
    "            end_index = len(phones)\n",
    "\n",
    "        duration = int(np.round(end*sampling_rate/hop_length) -\n",
    "                       np.round(start*sampling_rate/hop_length))\n",
    "        durations.append(duration)\n",
    "    \n",
    "    return phones[:end_index], durations[:end_index], start_time, end_time"
   ]
  },
  {
   "cell_type": "code",
   "execution_count": 114,
   "id": "8e9d3e69",
   "metadata": {},
   "outputs": [],
   "source": [
    "phones, durations, start, end = getAlignment(tiers)"
   ]
  },
  {
   "cell_type": "code",
   "execution_count": null,
   "id": "171f75e5",
   "metadata": {},
   "outputs": [],
   "source": []
  }
 ],
 "metadata": {
  "kernelspec": {
   "display_name": "Python 3 (ipykernel)",
   "language": "python",
   "name": "python3"
  },
  "language_info": {
   "codemirror_mode": {
    "name": "ipython",
    "version": 3
   },
   "file_extension": ".py",
   "mimetype": "text/x-python",
   "name": "python",
   "nbconvert_exporter": "python",
   "pygments_lexer": "ipython3",
   "version": "3.10.9"
  }
 },
 "nbformat": 4,
 "nbformat_minor": 5
}
